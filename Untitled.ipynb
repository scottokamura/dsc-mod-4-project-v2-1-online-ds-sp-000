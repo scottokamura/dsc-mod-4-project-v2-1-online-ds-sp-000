{
 "cells": [
  {
   "cell_type": "code",
   "execution_count": 30,
   "metadata": {},
   "outputs": [],
   "source": [
    "import pandas as pd"
   ]
  },
  {
   "cell_type": "code",
   "execution_count": 32,
   "metadata": {
    "scrolled": false
   },
   "outputs": [
    {
     "data": {
      "text/html": [
       "<div>\n",
       "<style scoped>\n",
       "    .dataframe tbody tr th:only-of-type {\n",
       "        vertical-align: middle;\n",
       "    }\n",
       "\n",
       "    .dataframe tbody tr th {\n",
       "        vertical-align: top;\n",
       "    }\n",
       "\n",
       "    .dataframe thead th {\n",
       "        text-align: right;\n",
       "    }\n",
       "</style>\n",
       "<table border=\"1\" class=\"dataframe\">\n",
       "  <thead>\n",
       "    <tr style=\"text-align: right;\">\n",
       "      <th></th>\n",
       "      <th>No</th>\n",
       "      <th>Type</th>\n",
       "      <th>Region</th>\n",
       "      <th>City,Town,Ward,Village code</th>\n",
       "      <th>Prefecture</th>\n",
       "      <th>City,Town,Ward,Village</th>\n",
       "      <th>Area</th>\n",
       "      <th>Nearest station：Name</th>\n",
       "      <th>Nearest station：Distance(minute)</th>\n",
       "      <th>Transaction-price(total)</th>\n",
       "      <th>...</th>\n",
       "      <th>Purpose of Use</th>\n",
       "      <th>Frontage road：Direction</th>\n",
       "      <th>Frontage road：Classification</th>\n",
       "      <th>Frontage road：Breadth(m)</th>\n",
       "      <th>City Planning</th>\n",
       "      <th>Maximus Building Coverage Ratio(%)</th>\n",
       "      <th>Maximus Floor-area Ratio(%)</th>\n",
       "      <th>Transaction period</th>\n",
       "      <th>Renovation</th>\n",
       "      <th>Transactional factors</th>\n",
       "    </tr>\n",
       "  </thead>\n",
       "  <tbody>\n",
       "    <tr>\n",
       "      <th>0</th>\n",
       "      <td>1</td>\n",
       "      <td>Pre-owned Condominiums, etc.</td>\n",
       "      <td>NaN</td>\n",
       "      <td>12101</td>\n",
       "      <td>Chiba Prefecture</td>\n",
       "      <td>Chuo Ward,Chiba City</td>\n",
       "      <td>Aobacho</td>\n",
       "      <td>Chiba</td>\n",
       "      <td>30-60minutes</td>\n",
       "      <td>21000000</td>\n",
       "      <td>...</td>\n",
       "      <td>House</td>\n",
       "      <td>NaN</td>\n",
       "      <td>NaN</td>\n",
       "      <td>NaN</td>\n",
       "      <td>Category II Residential Zone</td>\n",
       "      <td>60.0</td>\n",
       "      <td>200.0</td>\n",
       "      <td>2nd quarter 2020</td>\n",
       "      <td>Done</td>\n",
       "      <td>NaN</td>\n",
       "    </tr>\n",
       "    <tr>\n",
       "      <th>1</th>\n",
       "      <td>2</td>\n",
       "      <td>Pre-owned Condominiums, etc.</td>\n",
       "      <td>NaN</td>\n",
       "      <td>12101</td>\n",
       "      <td>Chiba Prefecture</td>\n",
       "      <td>Chuo Ward,Chiba City</td>\n",
       "      <td>Aobacho</td>\n",
       "      <td>Chiba</td>\n",
       "      <td>30-60minutes</td>\n",
       "      <td>18000000</td>\n",
       "      <td>...</td>\n",
       "      <td>House</td>\n",
       "      <td>NaN</td>\n",
       "      <td>NaN</td>\n",
       "      <td>NaN</td>\n",
       "      <td>Category II Residential Zone</td>\n",
       "      <td>60.0</td>\n",
       "      <td>200.0</td>\n",
       "      <td>1st quarter 2019</td>\n",
       "      <td>Done</td>\n",
       "      <td>NaN</td>\n",
       "    </tr>\n",
       "    <tr>\n",
       "      <th>2</th>\n",
       "      <td>3</td>\n",
       "      <td>Residential Land(Land and Building)</td>\n",
       "      <td>Residential Area</td>\n",
       "      <td>12101</td>\n",
       "      <td>Chiba Prefecture</td>\n",
       "      <td>Chuo Ward,Chiba City</td>\n",
       "      <td>Aobacho</td>\n",
       "      <td>Chibadera</td>\n",
       "      <td>11</td>\n",
       "      <td>46000000</td>\n",
       "      <td>...</td>\n",
       "      <td>House</td>\n",
       "      <td>Southwest</td>\n",
       "      <td>City Road</td>\n",
       "      <td>6.0</td>\n",
       "      <td>Category I Exclusively Low-story Residential Zone</td>\n",
       "      <td>60.0</td>\n",
       "      <td>150.0</td>\n",
       "      <td>2nd quarter 2019</td>\n",
       "      <td>NaN</td>\n",
       "      <td>NaN</td>\n",
       "    </tr>\n",
       "    <tr>\n",
       "      <th>3</th>\n",
       "      <td>4</td>\n",
       "      <td>Pre-owned Condominiums, etc.</td>\n",
       "      <td>NaN</td>\n",
       "      <td>12101</td>\n",
       "      <td>Chiba Prefecture</td>\n",
       "      <td>Chuo Ward,Chiba City</td>\n",
       "      <td>Aobacho</td>\n",
       "      <td>Chibadera</td>\n",
       "      <td>18</td>\n",
       "      <td>18000000</td>\n",
       "      <td>...</td>\n",
       "      <td>House</td>\n",
       "      <td>NaN</td>\n",
       "      <td>NaN</td>\n",
       "      <td>NaN</td>\n",
       "      <td>NaN</td>\n",
       "      <td>NaN</td>\n",
       "      <td>NaN</td>\n",
       "      <td>2nd quarter 2019</td>\n",
       "      <td>Not yet</td>\n",
       "      <td>NaN</td>\n",
       "    </tr>\n",
       "    <tr>\n",
       "      <th>4</th>\n",
       "      <td>5</td>\n",
       "      <td>Pre-owned Condominiums, etc.</td>\n",
       "      <td>NaN</td>\n",
       "      <td>12101</td>\n",
       "      <td>Chiba Prefecture</td>\n",
       "      <td>Chuo Ward,Chiba City</td>\n",
       "      <td>Aobacho</td>\n",
       "      <td>Honchiba</td>\n",
       "      <td>21</td>\n",
       "      <td>15000000</td>\n",
       "      <td>...</td>\n",
       "      <td>House</td>\n",
       "      <td>NaN</td>\n",
       "      <td>NaN</td>\n",
       "      <td>NaN</td>\n",
       "      <td>Category I Exclusively Medium-high Residential...</td>\n",
       "      <td>60.0</td>\n",
       "      <td>200.0</td>\n",
       "      <td>3rd quarter 2019</td>\n",
       "      <td>Not yet</td>\n",
       "      <td>NaN</td>\n",
       "    </tr>\n",
       "  </tbody>\n",
       "</table>\n",
       "<p>5 rows × 29 columns</p>\n",
       "</div>"
      ],
      "text/plain": [
       "   No                                 Type            Region  \\\n",
       "0   1         Pre-owned Condominiums, etc.               NaN   \n",
       "1   2         Pre-owned Condominiums, etc.               NaN   \n",
       "2   3  Residential Land(Land and Building)  Residential Area   \n",
       "3   4         Pre-owned Condominiums, etc.               NaN   \n",
       "4   5         Pre-owned Condominiums, etc.               NaN   \n",
       "\n",
       "   City,Town,Ward,Village code        Prefecture City,Town,Ward,Village  \\\n",
       "0                        12101  Chiba Prefecture   Chuo Ward,Chiba City   \n",
       "1                        12101  Chiba Prefecture   Chuo Ward,Chiba City   \n",
       "2                        12101  Chiba Prefecture   Chuo Ward,Chiba City   \n",
       "3                        12101  Chiba Prefecture   Chuo Ward,Chiba City   \n",
       "4                        12101  Chiba Prefecture   Chuo Ward,Chiba City   \n",
       "\n",
       "      Area Nearest station：Name Nearest station：Distance(minute)  \\\n",
       "0  Aobacho                Chiba                     30-60minutes   \n",
       "1  Aobacho                Chiba                     30-60minutes   \n",
       "2  Aobacho            Chibadera                               11   \n",
       "3  Aobacho            Chibadera                               18   \n",
       "4  Aobacho             Honchiba                               21   \n",
       "\n",
       "   Transaction-price(total)  ... Purpose of Use Frontage road：Direction  \\\n",
       "0                  21000000  ...          House                     NaN   \n",
       "1                  18000000  ...          House                     NaN   \n",
       "2                  46000000  ...          House               Southwest   \n",
       "3                  18000000  ...          House                     NaN   \n",
       "4                  15000000  ...          House                     NaN   \n",
       "\n",
       "   Frontage road：Classification Frontage road：Breadth(m)  \\\n",
       "0                           NaN                      NaN   \n",
       "1                           NaN                      NaN   \n",
       "2                     City Road                      6.0   \n",
       "3                           NaN                      NaN   \n",
       "4                           NaN                      NaN   \n",
       "\n",
       "                                       City Planning  \\\n",
       "0                       Category II Residential Zone   \n",
       "1                       Category II Residential Zone   \n",
       "2  Category I Exclusively Low-story Residential Zone   \n",
       "3                                                NaN   \n",
       "4  Category I Exclusively Medium-high Residential...   \n",
       "\n",
       "  Maximus Building Coverage Ratio(%) Maximus Floor-area Ratio(%)  \\\n",
       "0                               60.0                       200.0   \n",
       "1                               60.0                       200.0   \n",
       "2                               60.0                       150.0   \n",
       "3                                NaN                         NaN   \n",
       "4                               60.0                       200.0   \n",
       "\n",
       "  Transaction period Renovation Transactional factors  \n",
       "0   2nd quarter 2020       Done                   NaN  \n",
       "1   1st quarter 2019       Done                   NaN  \n",
       "2   2nd quarter 2019        NaN                   NaN  \n",
       "3   2nd quarter 2019    Not yet                   NaN  \n",
       "4   3rd quarter 2019    Not yet                   NaN  \n",
       "\n",
       "[5 rows x 29 columns]"
      ]
     },
     "execution_count": 32,
     "metadata": {},
     "output_type": "execute_result"
    }
   ],
   "source": [
    "df = pd.read_csv('12_Chiba Prefecture_20191_20202_e.csv', encoding='SHIFT-JIS')\n",
    "df.head()"
   ]
  },
  {
   "cell_type": "code",
   "execution_count": 33,
   "metadata": {},
   "outputs": [
    {
     "data": {
      "text/plain": [
       "(18194, 29)"
      ]
     },
     "execution_count": 33,
     "metadata": {},
     "output_type": "execute_result"
    }
   ],
   "source": [
    "df.shape"
   ]
  },
  {
   "cell_type": "code",
   "execution_count": 34,
   "metadata": {},
   "outputs": [
    {
     "data": {
      "text/plain": [
       "Index(['No', 'Type', 'Region', 'City,Town,Ward,Village code', 'Prefecture',\n",
       "       'City,Town,Ward,Village', 'Area', 'Nearest station：Name',\n",
       "       'Nearest station：Distance(minute)', 'Transaction-price(total)',\n",
       "       'Layout', 'Area(m^2)', 'Transaction-price(Unit price m^2)',\n",
       "       'Land shape', 'Frontage', 'Total floor area(m^2)',\n",
       "       'Year of construction', 'Building structure', 'Use', 'Purpose of Use',\n",
       "       'Frontage road：Direction', 'Frontage road：Classification',\n",
       "       'Frontage road：Breadth(m)', 'City Planning',\n",
       "       'Maximus Building Coverage Ratio(%)', 'Maximus Floor-area Ratio(%)',\n",
       "       'Transaction period', 'Renovation', 'Transactional factors'],\n",
       "      dtype='object')"
      ]
     },
     "execution_count": 34,
     "metadata": {},
     "output_type": "execute_result"
    }
   ],
   "source": [
    "df.columns"
   ]
  },
  {
   "cell_type": "code",
   "execution_count": 35,
   "metadata": {},
   "outputs": [
    {
     "data": {
      "text/plain": [
       "No                                      int64\n",
       "Type                                   object\n",
       "Region                                 object\n",
       "City,Town,Ward,Village code             int64\n",
       "Prefecture                             object\n",
       "City,Town,Ward,Village                 object\n",
       "Area                                   object\n",
       "Nearest station：Name                   object\n",
       "Nearest station：Distance(minute)       object\n",
       "Transaction-price(total)                int64\n",
       "Layout                                 object\n",
       "Area(m^2)                              object\n",
       "Transaction-price(Unit price m^2)     float64\n",
       "Land shape                             object\n",
       "Frontage                               object\n",
       "Total floor area(m^2)                  object\n",
       "Year of construction                   object\n",
       "Building structure                     object\n",
       "Use                                    object\n",
       "Purpose of Use                         object\n",
       "Frontage road：Direction                object\n",
       "Frontage road：Classification           object\n",
       "Frontage road：Breadth(m)              float64\n",
       "City Planning                          object\n",
       "Maximus Building Coverage Ratio(%)    float64\n",
       "Maximus Floor-area Ratio(%)           float64\n",
       "Transaction period                     object\n",
       "Renovation                             object\n",
       "Transactional factors                  object\n",
       "dtype: object"
      ]
     },
     "execution_count": 35,
     "metadata": {},
     "output_type": "execute_result"
    }
   ],
   "source": [
    "df.dtypes"
   ]
  },
  {
   "cell_type": "code",
   "execution_count": 36,
   "metadata": {},
   "outputs": [
    {
     "data": {
      "text/plain": [
       "1st quarter 2019    3559\n",
       "2nd quarter 2019    3402\n",
       "1st quarter 2020    3342\n",
       "4th quarter 2019    3316\n",
       "3rd quarter 2019    3135\n",
       "2nd quarter 2020    1440\n",
       "Name: Transaction period, dtype: int64"
      ]
     },
     "execution_count": 36,
     "metadata": {},
     "output_type": "execute_result"
    }
   ],
   "source": [
    "df['Transaction period'].value_counts()"
   ]
  },
  {
   "cell_type": "code",
   "execution_count": 39,
   "metadata": {},
   "outputs": [
    {
     "data": {
      "text/plain": [
       "<pandas.core.groupby.generic.DataFrameGroupBy object at 0x7fddf49bd668>"
      ]
     },
     "execution_count": 39,
     "metadata": {},
     "output_type": "execute_result"
    }
   ],
   "source": [
    "df.groupby('Transaction period')"
   ]
  },
  {
   "cell_type": "code",
   "execution_count": null,
   "metadata": {},
   "outputs": [],
   "source": []
  }
 ],
 "metadata": {
  "kernelspec": {
   "display_name": "Python [conda env:learn-env] *",
   "language": "python",
   "name": "conda-env-learn-env-py"
  },
  "language_info": {
   "codemirror_mode": {
    "name": "ipython",
    "version": 3
   },
   "file_extension": ".py",
   "mimetype": "text/x-python",
   "name": "python",
   "nbconvert_exporter": "python",
   "pygments_lexer": "ipython3",
   "version": "3.6.10"
  }
 },
 "nbformat": 4,
 "nbformat_minor": 4
}
